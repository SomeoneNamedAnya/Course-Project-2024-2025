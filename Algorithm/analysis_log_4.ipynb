{
 "cells": [
  {
   "cell_type": "markdown",
   "metadata": {},
   "source": [
    "# Алгоритм разбиения бизнесс процесса на подпроцессы по журналу событий основанный на кластеризации трасс\n",
    "В данном блокноте представлен алгоритм разбиения бизнесс процесса на подпроцессы по журналу событий и его применение \n",
    "на журнале событий:\n",
    "1. [BPI Challenge 2015 Municipality 4](https://data.4tu.nl/articles/_/12697898/1)\n",
    "\n",
    "## Оглавление:\n",
    "1. Подгатовка данных\n",
    "2. Применение алгоритма\n",
    "\n"
   ]
  },
  {
   "cell_type": "markdown",
   "metadata": {},
   "source": [
    "#### 1. Подгатовка данных"
   ]
  },
  {
   "cell_type": "markdown",
   "metadata": {},
   "source": [
    "Для начала подключим необходимые библиотеки"
   ]
  },
  {
   "cell_type": "code",
   "execution_count": 1,
   "metadata": {},
   "outputs": [],
   "source": [
    "import numpy as np\n",
    "import pandas as pd\n",
    "import pm4py\n",
    "import matplotlib.pyplot as plt\n",
    "import seaborn as sns"
   ]
  },
  {
   "cell_type": "markdown",
   "metadata": {},
   "source": [
    "Подгрузим данные. Формат журнала событий ___.xes___ и далее работать с таким форматом будет не очень удобно, поэтому преобразуем его с помощью функций библиотеки pm4py к формату ___.csv___ и сохраним в текущей директории"
   ]
  },
  {
   "cell_type": "code",
   "execution_count": 2,
   "metadata": {},
   "outputs": [
    {
     "name": "stderr",
     "output_type": "stream",
     "text": [
      "/home/anna/.local/lib/python3.10/site-packages/pm4py/util/dt_parsing/parser.py:82: UserWarning: ISO8601 strings are not fully supported with strpfromiso for Python versions below 3.11\n",
      "  warnings.warn(\n",
      "/home/anna/.local/lib/python3.10/site-packages/tqdm/auto.py:21: TqdmWarning: IProgress not found. Please update jupyter and ipywidgets. See https://ipywidgets.readthedocs.io/en/stable/user_install.html\n",
      "  from .autonotebook import tqdm as notebook_tqdm\n",
      "parsing log, completed traces :: 100%|██████████| 1053/1053 [00:02<00:00, 380.64it/s]\n"
     ]
    }
   ],
   "source": [
    "event_log_xes = pm4py.read_xes(\"../Data/BPIC15_4/BPIC15_4.xes\")\n",
    "event_log_csv = pm4py.convert_to_dataframe(event_log_xes)\n",
    "event_log_csv.to_csv(\"../Data/BPIC15_4/BPIC15_4.csv\", index=False)"
   ]
  },
  {
   "cell_type": "markdown",
   "metadata": {},
   "source": [
    "Теперь уже откроем журнал событий с помощью pandas"
   ]
  },
  {
   "cell_type": "code",
   "execution_count": 3,
   "metadata": {},
   "outputs": [
    {
     "name": "stderr",
     "output_type": "stream",
     "text": [
      "/tmp/ipykernel_1597367/3558787022.py:1: DtypeWarning: Columns (27) have mixed types. Specify dtype option on import or set low_memory=False.\n",
      "  df = pd.read_csv(\"../Data/BPIC15_4/BPIC15_4.csv\")\n"
     ]
    },
    {
     "data": {
      "text/html": [
       "<div>\n",
       "<style scoped>\n",
       "    .dataframe tbody tr th:only-of-type {\n",
       "        vertical-align: middle;\n",
       "    }\n",
       "\n",
       "    .dataframe tbody tr th {\n",
       "        vertical-align: top;\n",
       "    }\n",
       "\n",
       "    .dataframe thead th {\n",
       "        text-align: right;\n",
       "    }\n",
       "</style>\n",
       "<table border=\"1\" class=\"dataframe\">\n",
       "  <thead>\n",
       "    <tr style=\"text-align: right;\">\n",
       "      <th></th>\n",
       "      <th>question</th>\n",
       "      <th>dateFinished</th>\n",
       "      <th>dueDate</th>\n",
       "      <th>action_code</th>\n",
       "      <th>activityNameEN</th>\n",
       "      <th>planned</th>\n",
       "      <th>time:timestamp</th>\n",
       "      <th>monitoringResource</th>\n",
       "      <th>org:resource</th>\n",
       "      <th>activityNameNL</th>\n",
       "      <th>...</th>\n",
       "      <th>case:case_type</th>\n",
       "      <th>case:startDate</th>\n",
       "      <th>case:requestComplete</th>\n",
       "      <th>case:IDofConceptCase</th>\n",
       "      <th>case:termName</th>\n",
       "      <th>case:caseProcedure</th>\n",
       "      <th>case:landRegisterID</th>\n",
       "      <th>case:Includes_subCases</th>\n",
       "      <th>dateStop</th>\n",
       "      <th>case:endDatePlanned</th>\n",
       "    </tr>\n",
       "  </thead>\n",
       "  <tbody>\n",
       "    <tr>\n",
       "      <th>0</th>\n",
       "      <td>EMPTY</td>\n",
       "      <td>2014-08-06 00:00:00</td>\n",
       "      <td>2014-08-11 08:28:55+00:00</td>\n",
       "      <td>01_HOOFD_010</td>\n",
       "      <td>register submission date request</td>\n",
       "      <td>2014-08-07 08:28:55+00:00</td>\n",
       "      <td>2014-08-05 00:00:00+00:00</td>\n",
       "      <td>560752</td>\n",
       "      <td>560752</td>\n",
       "      <td>registratie datum binnenkomst aanvraag</td>\n",
       "      <td>...</td>\n",
       "      <td>557669</td>\n",
       "      <td>2014-08-05 00:00:00+00:00</td>\n",
       "      <td>True</td>\n",
       "      <td>10002463.0</td>\n",
       "      <td>NaN</td>\n",
       "      <td>NaN</td>\n",
       "      <td>NaN</td>\n",
       "      <td>NaN</td>\n",
       "      <td>NaN</td>\n",
       "      <td>NaN</td>\n",
       "    </tr>\n",
       "    <tr>\n",
       "      <th>1</th>\n",
       "      <td>True</td>\n",
       "      <td>2014-08-06 00:00:00</td>\n",
       "      <td>NaN</td>\n",
       "      <td>04_BPT_005</td>\n",
       "      <td>regular procedure without MER</td>\n",
       "      <td>2014-08-07 08:35:32+00:00</td>\n",
       "      <td>2014-08-06 00:00:00+00:00</td>\n",
       "      <td>1550894</td>\n",
       "      <td>560752</td>\n",
       "      <td>reguliere procedure zonder MER</td>\n",
       "      <td>...</td>\n",
       "      <td>557669</td>\n",
       "      <td>2014-08-05 00:00:00+00:00</td>\n",
       "      <td>True</td>\n",
       "      <td>10002463.0</td>\n",
       "      <td>NaN</td>\n",
       "      <td>NaN</td>\n",
       "      <td>NaN</td>\n",
       "      <td>NaN</td>\n",
       "      <td>NaN</td>\n",
       "      <td>NaN</td>\n",
       "    </tr>\n",
       "    <tr>\n",
       "      <th>2</th>\n",
       "      <td>True</td>\n",
       "      <td>2014-08-06 00:00:00</td>\n",
       "      <td>NaN</td>\n",
       "      <td>01_HOOFD_065_0</td>\n",
       "      <td>create procedure confirmation</td>\n",
       "      <td>2014-08-07 08:35:37+00:00</td>\n",
       "      <td>2014-08-06 00:00:00+00:00</td>\n",
       "      <td>1550894</td>\n",
       "      <td>560752</td>\n",
       "      <td>procedurebevestiging aanmaken</td>\n",
       "      <td>...</td>\n",
       "      <td>557669</td>\n",
       "      <td>2014-08-05 00:00:00+00:00</td>\n",
       "      <td>True</td>\n",
       "      <td>10002463.0</td>\n",
       "      <td>NaN</td>\n",
       "      <td>NaN</td>\n",
       "      <td>NaN</td>\n",
       "      <td>NaN</td>\n",
       "      <td>NaN</td>\n",
       "      <td>NaN</td>\n",
       "    </tr>\n",
       "    <tr>\n",
       "      <th>3</th>\n",
       "      <td>False</td>\n",
       "      <td>2014-08-06 00:00:00</td>\n",
       "      <td>NaN</td>\n",
       "      <td>01_HOOFD_090</td>\n",
       "      <td>publish</td>\n",
       "      <td>2014-08-07 08:37:32+00:00</td>\n",
       "      <td>2014-08-06 00:00:00+00:00</td>\n",
       "      <td>1550894</td>\n",
       "      <td>560752</td>\n",
       "      <td>publiceren</td>\n",
       "      <td>...</td>\n",
       "      <td>557669</td>\n",
       "      <td>2014-08-05 00:00:00+00:00</td>\n",
       "      <td>True</td>\n",
       "      <td>10002463.0</td>\n",
       "      <td>NaN</td>\n",
       "      <td>NaN</td>\n",
       "      <td>NaN</td>\n",
       "      <td>NaN</td>\n",
       "      <td>NaN</td>\n",
       "      <td>NaN</td>\n",
       "    </tr>\n",
       "    <tr>\n",
       "      <th>4</th>\n",
       "      <td>False</td>\n",
       "      <td>2014-08-06 00:00:00</td>\n",
       "      <td>NaN</td>\n",
       "      <td>01_HOOFD_110_0</td>\n",
       "      <td>create subcases completeness</td>\n",
       "      <td>2014-08-07 08:37:33+00:00</td>\n",
       "      <td>2014-08-06 00:00:00+00:00</td>\n",
       "      <td>1550894</td>\n",
       "      <td>560752</td>\n",
       "      <td>deelzaken volledigheid aanmaken</td>\n",
       "      <td>...</td>\n",
       "      <td>557669</td>\n",
       "      <td>2014-08-05 00:00:00+00:00</td>\n",
       "      <td>True</td>\n",
       "      <td>10002463.0</td>\n",
       "      <td>NaN</td>\n",
       "      <td>NaN</td>\n",
       "      <td>NaN</td>\n",
       "      <td>NaN</td>\n",
       "      <td>NaN</td>\n",
       "      <td>NaN</td>\n",
       "    </tr>\n",
       "  </tbody>\n",
       "</table>\n",
       "<p>5 rows × 29 columns</p>\n",
       "</div>"
      ],
      "text/plain": [
       "  question         dateFinished                    dueDate     action_code  \\\n",
       "0    EMPTY  2014-08-06 00:00:00  2014-08-11 08:28:55+00:00    01_HOOFD_010   \n",
       "1     True  2014-08-06 00:00:00                        NaN      04_BPT_005   \n",
       "2     True  2014-08-06 00:00:00                        NaN  01_HOOFD_065_0   \n",
       "3    False  2014-08-06 00:00:00                        NaN    01_HOOFD_090   \n",
       "4    False  2014-08-06 00:00:00                        NaN  01_HOOFD_110_0   \n",
       "\n",
       "                     activityNameEN                    planned  \\\n",
       "0  register submission date request  2014-08-07 08:28:55+00:00   \n",
       "1     regular procedure without MER  2014-08-07 08:35:32+00:00   \n",
       "2     create procedure confirmation  2014-08-07 08:35:37+00:00   \n",
       "3                           publish  2014-08-07 08:37:32+00:00   \n",
       "4      create subcases completeness  2014-08-07 08:37:33+00:00   \n",
       "\n",
       "              time:timestamp  monitoringResource  org:resource  \\\n",
       "0  2014-08-05 00:00:00+00:00              560752        560752   \n",
       "1  2014-08-06 00:00:00+00:00             1550894        560752   \n",
       "2  2014-08-06 00:00:00+00:00             1550894        560752   \n",
       "3  2014-08-06 00:00:00+00:00             1550894        560752   \n",
       "4  2014-08-06 00:00:00+00:00             1550894        560752   \n",
       "\n",
       "                           activityNameNL  ... case:case_type  \\\n",
       "0  registratie datum binnenkomst aanvraag  ...         557669   \n",
       "1          reguliere procedure zonder MER  ...         557669   \n",
       "2           procedurebevestiging aanmaken  ...         557669   \n",
       "3                              publiceren  ...         557669   \n",
       "4         deelzaken volledigheid aanmaken  ...         557669   \n",
       "\n",
       "              case:startDate  case:requestComplete  case:IDofConceptCase  \\\n",
       "0  2014-08-05 00:00:00+00:00                  True            10002463.0   \n",
       "1  2014-08-05 00:00:00+00:00                  True            10002463.0   \n",
       "2  2014-08-05 00:00:00+00:00                  True            10002463.0   \n",
       "3  2014-08-05 00:00:00+00:00                  True            10002463.0   \n",
       "4  2014-08-05 00:00:00+00:00                  True            10002463.0   \n",
       "\n",
       "  case:termName case:caseProcedure case:landRegisterID  \\\n",
       "0           NaN                NaN                 NaN   \n",
       "1           NaN                NaN                 NaN   \n",
       "2           NaN                NaN                 NaN   \n",
       "3           NaN                NaN                 NaN   \n",
       "4           NaN                NaN                 NaN   \n",
       "\n",
       "   case:Includes_subCases dateStop  case:endDatePlanned  \n",
       "0                     NaN      NaN                  NaN  \n",
       "1                     NaN      NaN                  NaN  \n",
       "2                     NaN      NaN                  NaN  \n",
       "3                     NaN      NaN                  NaN  \n",
       "4                     NaN      NaN                  NaN  \n",
       "\n",
       "[5 rows x 29 columns]"
      ]
     },
     "execution_count": 3,
     "metadata": {},
     "output_type": "execute_result"
    }
   ],
   "source": [
    "df = pd.read_csv(\"../Data/BPIC15_4/BPIC15_4.csv\")\n",
    "df.head(5)"
   ]
  },
  {
   "cell_type": "code",
   "execution_count": 4,
   "metadata": {},
   "outputs": [
    {
     "data": {
      "text/plain": [
       "(47293, 29)"
      ]
     },
     "execution_count": 4,
     "metadata": {},
     "output_type": "execute_result"
    }
   ],
   "source": [
    "df.shape"
   ]
  },
  {
   "cell_type": "code",
   "execution_count": 5,
   "metadata": {},
   "outputs": [
    {
     "data": {
      "text/plain": [
       "array(['01_HOOFD_010', '04_BPT_005', '01_HOOFD_065_0', '01_HOOFD_090',\n",
       "       '01_HOOFD_110_0', '01_HOOFD_180', '01_HOOFD_011', '01_HOOFD_020',\n",
       "       '02_DRZ_010', '01_HOOFD_065_1', '01_HOOFD_015', '01_HOOFD_061',\n",
       "       '01_HOOFD_065_2', '01_HOOFD_200', '01_HOOFD_250_0', '01_HOOFD_330',\n",
       "       '09_AH_I_010', '01_HOOFD_380', '01_HOOFD_430', '11_AH_II_010',\n",
       "       '13_CRD_010', '01_HOOFD_480', '01_HOOFD_490_2', '01_HOOFD_491',\n",
       "       '08_AWB45_005', '01_HOOFD_494a', '01_HOOFD_490_1a',\n",
       "       '01_HOOFD_490_1', '01_HOOFD_375', '01_HOOFD_195', '01_HOOFD_490_4',\n",
       "       '01_HOOFD_500', '01_HOOFD_510_0', '01_HOOFD_490_5', '01_HOOFD_495',\n",
       "       '01_HOOFD_490_5a', '01_HOOFD_510_1', '01_HOOFD_510_2',\n",
       "       '01_HOOFD_510_3', '01_HOOFD_510_2a', '01_HOOFD_510_4',\n",
       "       '01_HOOFD_515', '01_BB_540', '01_BB_775', '01_HOOFD_811',\n",
       "       '01_BB_770', '01_HOOFD_012', '04_BPT_009', '04_BPT_020',\n",
       "       '04_BPT_030', '04_BPT_029', '04_BPT_021', '01_HOOFD_030_1',\n",
       "       '01_HOOFD_030_2', '08_AWB45_010', '08_AWB45_020_0', '08_OLO_100',\n",
       "       '08_AWB45_025', '08_AWB45_020_1', '08_AWB45_020_2', '08_AWB45_030',\n",
       "       '08_AWB45_051_0', '08_AWB45_040', '08_AWB45_045', '01_HOOFD_196',\n",
       "       '01_HOOFD_440_1', '01_OLO_120', '01_HOOFD_440_1a', '01_HOOFD_446',\n",
       "       '01_HOOFD_455', '10_UOV_010', '10_UOV_050_0', '10_UOV_050_1',\n",
       "       '01_HOOFD_460a', '01_HOOFD_440_2', '01_HOOFD_460', '01_HOOFD_459',\n",
       "       '01_HOOFD_465', '01_HOOFD_445', '01_HOOFD_450', '10_UOV_050_2a',\n",
       "       '10_UOV_050_2', '10_UOV_055', '10_UOV_050_3', '99_NOCODE_02',\n",
       "       '10_UOV_050_4', '10_UOV_030', '10_UOV_030a', '06_VD_010',\n",
       "       '06_VD_020', '06_VD_030_2', '03_VD_060_0', '06_VD_030_1a',\n",
       "       '06_VD_060_3', '06_VD_035', '06_VD_030_4', '06_VD_060_2a',\n",
       "       '06_VD_030_5a', '06_VD_030_1', '06_VD_030_5', '06_VD_060_2',\n",
       "       '05_EIND_020', '05_EIND_010', '05_EIND_011', '05_EIND_025',\n",
       "       '05_EIND_030_0', '99_NOCODE_01', '05_EIND_065', '08_AWB45_060',\n",
       "       '08_AWB45_070_2', '08_AWB45_070_1', '08_AWB45_070_1a', '12_AP_010',\n",
       "       '12_AP_011', '12_AP_020_0', '12_AP_025', '12_AP_020_1',\n",
       "       '12_AP_020_2', '08_AWB45_090_0', '08_AWB45_110', '08_AWB45_075',\n",
       "       '08_AWB45_090_3', '08_AWB45_070_4', '08_AWB45_070_5a',\n",
       "       '01_HOOFD_815', '01_HOOFD_814', '08_AWB45_175', '08_AWB45_090_2a',\n",
       "       '01_HOOFD_820', '01_HOOFD_810', '08_AWB45_070_5', '08_AWB45_090_2',\n",
       "       '08_AWB45_150', '01_HOOFD_350_0', '01_HOOFD_331', '10_UOV_060',\n",
       "       '01_HOOFD_100_0', '01_HOOFD_101', '04_BPT_060', '04_BPT_040',\n",
       "       '04_BPT_050', '04_BPT_041', '05_EIND_030_1', '05_EIND_030_2',\n",
       "       '01_HOOFD_040', '01_HOOFD_050', '01_HOOFD_055', '01_HOOFD_060',\n",
       "       '01_HOOFD_100', '01_HOOFD_110', '01_HOOFD_120', '01_HOOFD_130',\n",
       "       '01_HOOFD_170', '01_HOOFD_205', '01_HOOFD_250', '01_HOOFD_265',\n",
       "       '01_HOOFD_260', '01_HOOFD_270', '01_HOOFD_370', '01_HOOFD_470',\n",
       "       '01_HOOFD_490_3', '01_HOOFD_520', '01_HOOFD_530', '01_HOOFD_390',\n",
       "       '01_HOOFD_400', '01_HOOFD_420', '05_EIND_050', '05_EIND_040',\n",
       "       '05_EIND_060', '05_EIND_070', '01_HOOFD_190_2', '01_HOOFD_190_1',\n",
       "       '01_HOOFD_800', '01_HOOFD_790', '09_AH_I_020', '09_AH_I_040',\n",
       "       '08_AWB45_170', '06_VD_020_2', '06_VD_070', '06_VD_020_1',\n",
       "       '06_VD_030', '06_VD_040', '06_VD_050', '06_VD_060', '06_VD_100',\n",
       "       '06_VD_140', '04_BPT_010', '01_HOOFD_540', '06_VD_030_3',\n",
       "       '01_HOOFD_190', '01_HOOFD_195_2', '01_HOOFD_195_1', '01_HOOFD_451',\n",
       "       '10_UOV_020', '10_UOV_040', '10_UOV_045', '01_BB_630',\n",
       "       '01_HOOFD_456', '08_AWB45_070_3', '08_AWB45_080', '08_AWB45_090_1',\n",
       "       '08_AWB45_180', '10_UOV_035', '10_UOV_180', '10_UOV_210',\n",
       "       '01_HOOFD_210_2', '09_AWB45_005', '01_HOOFD_110_2',\n",
       "       '01_HOOFD_350_2', '01_HOOFD_250_2', '06_VD_060_1', '06_VD_060_4',\n",
       "       '03_GBH_005', '01_BB_550', '01_BB_560', '01_BB_590',\n",
       "       '11_AH_II_020_2', '11_AH_II_035', '11_AH_II_055', '11_AH_II_020_1',\n",
       "       '11_AH_II_040', '11_AH_II_070', '11_AH_II_100', '07_OPS_010',\n",
       "       '14_VRIJ_010', '01_HOOFD_410_2', '01_HOOFD_410_1', '11_AH_II_130',\n",
       "       '14_VRIJ_020_2', '14_VRIJ_015', '14_VRIJ_020_1', '14_VRIJ_030',\n",
       "       '15_NGV_010', '10_UOV_190', '10_UOV_200', '01_HOOFD_110_1',\n",
       "       '01_HOOFD_250_1', '10_UOV_190_1', '10_UOV_190_2', '01_BB_730',\n",
       "       '14_VRIJ_035', '07_OPS_020', '07_OPS_030', '07_OPS_040',\n",
       "       '07_OPS_070', '07_OPS_071', '07_OPS_080_2', '07_OPS_080_1',\n",
       "       '01_HOOFD_193', '10_UOV_070', '10_UOV_075', '10_UOV_076',\n",
       "       '10_UOV_080', '10_UOV_100', '10_UOV_120', '12_AP_UOV_010',\n",
       "       '10_UOV_150', '10_UOV_160', '10_UOV_170', '01_HOOFD_210_1',\n",
       "       '01_OLO_140', '01_OLO_160', '01_OLO_190', '01_OLO_240',\n",
       "       '01_HOOFD_191', '01_HOOFD_192', '01_BB_765', '10_OLO_100',\n",
       "       '01_OLO_180', '10_OLO_120', '01_BB_766', '01_BB_755', '06_OLO_100',\n",
       "       '11_OLO_100', '10_UOV_061', '10_UOV_065', '01_BB_545', '01_BB_546',\n",
       "       '11_AH_II_030', '11_AH_II_020', '11_AH_II_036', '11_AH_II_037_1',\n",
       "       '11_AH_II_037_2', '11_AH_II_070_1', '11_AH_II_070_2',\n",
       "       '01_HOOFD_099', '01_HOOFD_519', '01_HOOFD_516', '08_AWB45_050',\n",
       "       '10_UOV_039', '16_LGSD_010', '01_HOOFD_446_0', '01_HOOFD_447',\n",
       "       '02_DRZ_020_1', '02_DRZ_020_2', '02_DRZ_030_1', '02_DRZ_030_2',\n",
       "       '02_DRZ_035', '02_DRZ_045', '16_LGSV_010', '12_AP_UOV_011',\n",
       "       '12_AP_UOV_030', '12_AP_UOV_060', '12_AP_UOV_055', '10_UOV_061_2',\n",
       "       '12_AP_UOV_020_1', '12_AP_UOV_025', '12_AP_UOV_020_2',\n",
       "       '12_AP_UOV_050', '01_HOOFD_809', '01_HOOFD_101b',\n",
       "       '01_HOOFD_490_3a', '01_HOOFD_516a', '07_OPS_050', '07_OPS_051',\n",
       "       '07_OPS_060_0', '07_OPS_055', '08_AWB45_052', '01_HOOFD_080',\n",
       "       '05_EIND_020_0', '14_VRIJ_011', '14_VRIJ_020_0', '11_AH_II_040c',\n",
       "       '11_AH_II_070_3a', '11_AH_II_040b', '11_AH_II_040a',\n",
       "       '11_AH_II_040_d', '11_AH_II_070_3', '11_AH_II_140', '11_AH_II_145',\n",
       "       '14_VRIJ_030_1', '14_VRIJ_030_5a', '14_VRIJ_030_1a',\n",
       "       '14_VRIJ_030_2', '14_VRIJ_030_4', '14_VRIJ_030_5', '14_VRIJ_055',\n",
       "       '14_VRIJ_060_0', '14_VRIJ_060_1', '14_VRIJ_060_2a',\n",
       "       '14_VRIJ_060_4', '14_VRIJ_060_2', '14_VRIJ_110', '14_VRIJ_150',\n",
       "       '14_VRIJ_060_3', '14_VRIJ_175', '07_OPS_080_0', '07_OPS_075',\n",
       "       '01_HOOFD_809c', '10_UOV_041b', '01_HOOFD_809b', '01_HOOFD_530b',\n",
       "       '01_BB_636', '01_BB_700', '01_BB_635', '01_HOOFD_532'],\n",
       "      dtype=object)"
      ]
     },
     "execution_count": 5,
     "metadata": {},
     "output_type": "execute_result"
    }
   ],
   "source": [
    "df[\"concept:name\"].unique()"
   ]
  },
  {
   "cell_type": "code",
   "execution_count": 8,
   "metadata": {},
   "outputs": [],
   "source": [
    "code_case, unique_case = pd.factorize(df[\"case:concept:name\"])\n",
    "code_activity, unique_activity = pd.factorize(df[\"concept:name\"])"
   ]
  },
  {
   "cell_type": "code",
   "execution_count": 9,
   "metadata": {},
   "outputs": [
    {
     "name": "stdout",
     "output_type": "stream",
     "text": [
      "Count of cases: 1053\n",
      "Count of activities: 356\n"
     ]
    }
   ],
   "source": [
    "print(\"Count of cases:\", len(unique_case))\n",
    "print(\"Count of activities:\", len(unique_activity))\n"
   ]
  },
  {
   "cell_type": "code",
   "execution_count": 10,
   "metadata": {},
   "outputs": [
    {
     "data": {
      "text/html": [
       "<div>\n",
       "<style scoped>\n",
       "    .dataframe tbody tr th:only-of-type {\n",
       "        vertical-align: middle;\n",
       "    }\n",
       "\n",
       "    .dataframe tbody tr th {\n",
       "        vertical-align: top;\n",
       "    }\n",
       "\n",
       "    .dataframe thead th {\n",
       "        text-align: right;\n",
       "    }\n",
       "</style>\n",
       "<table border=\"1\" class=\"dataframe\">\n",
       "  <thead>\n",
       "    <tr style=\"text-align: right;\">\n",
       "      <th></th>\n",
       "      <th>code_case</th>\n",
       "      <th>code_activity</th>\n",
       "      <th>len</th>\n",
       "    </tr>\n",
       "  </thead>\n",
       "  <tbody>\n",
       "    <tr>\n",
       "      <th>0</th>\n",
       "      <td>0</td>\n",
       "      <td>[0, 1, 2, 3, 4, 5, 6, 7, 8, 9, 10, 11, 12, 13,...</td>\n",
       "      <td>46</td>\n",
       "    </tr>\n",
       "    <tr>\n",
       "      <th>1</th>\n",
       "      <td>1</td>\n",
       "      <td>[0, 6, 7, 8, 1, 2, 3, 4, 5, 9, 10, 11, 12]</td>\n",
       "      <td>13</td>\n",
       "    </tr>\n",
       "    <tr>\n",
       "      <th>2</th>\n",
       "      <td>2</td>\n",
       "      <td>[6, 7, 8, 1, 2, 3, 4, 5, 10, 0, 9, 11, 12]</td>\n",
       "      <td>13</td>\n",
       "    </tr>\n",
       "    <tr>\n",
       "      <th>3</th>\n",
       "      <td>3</td>\n",
       "      <td>[0, 46, 7, 8, 1, 47, 48, 49, 2, 50, 10, 51, 9,...</td>\n",
       "      <td>116</td>\n",
       "    </tr>\n",
       "    <tr>\n",
       "      <th>4</th>\n",
       "      <td>4</td>\n",
       "      <td>[0, 6, 7, 8, 1, 2, 3, 4, 5, 10, 9, 11, 12, 54,...</td>\n",
       "      <td>53</td>\n",
       "    </tr>\n",
       "    <tr>\n",
       "      <th>...</th>\n",
       "      <td>...</td>\n",
       "      <td>...</td>\n",
       "      <td>...</td>\n",
       "    </tr>\n",
       "    <tr>\n",
       "      <th>1048</th>\n",
       "      <td>1048</td>\n",
       "      <td>[0, 8, 1, 2, 3, 4, 5, 6, 7, 9, 10, 11, 12, 24,...</td>\n",
       "      <td>53</td>\n",
       "    </tr>\n",
       "    <tr>\n",
       "      <th>1049</th>\n",
       "      <td>1049</td>\n",
       "      <td>[0, 6, 7, 8, 1, 2, 3, 4, 5, 10, 11, 9, 12, 54,...</td>\n",
       "      <td>45</td>\n",
       "    </tr>\n",
       "    <tr>\n",
       "      <th>1050</th>\n",
       "      <td>1050</td>\n",
       "      <td>[0, 6, 7, 8, 1, 47, 48, 139, 140, 138, 2, 3, 1...</td>\n",
       "      <td>70</td>\n",
       "    </tr>\n",
       "    <tr>\n",
       "      <th>1051</th>\n",
       "      <td>1051</td>\n",
       "      <td>[0, 6, 7, 8, 1, 2, 3, 4, 5, 10, 11, 9, 12, 13,...</td>\n",
       "      <td>42</td>\n",
       "    </tr>\n",
       "    <tr>\n",
       "      <th>1052</th>\n",
       "      <td>1052</td>\n",
       "      <td>[0, 1, 2, 3, 4, 5, 6, 7, 8, 11, 10, 9, 12, 13,...</td>\n",
       "      <td>42</td>\n",
       "    </tr>\n",
       "  </tbody>\n",
       "</table>\n",
       "<p>1053 rows × 3 columns</p>\n",
       "</div>"
      ],
      "text/plain": [
       "      code_case                                      code_activity  len\n",
       "0             0  [0, 1, 2, 3, 4, 5, 6, 7, 8, 9, 10, 11, 12, 13,...   46\n",
       "1             1         [0, 6, 7, 8, 1, 2, 3, 4, 5, 9, 10, 11, 12]   13\n",
       "2             2         [6, 7, 8, 1, 2, 3, 4, 5, 10, 0, 9, 11, 12]   13\n",
       "3             3  [0, 46, 7, 8, 1, 47, 48, 49, 2, 50, 10, 51, 9,...  116\n",
       "4             4  [0, 6, 7, 8, 1, 2, 3, 4, 5, 10, 9, 11, 12, 54,...   53\n",
       "...         ...                                                ...  ...\n",
       "1048       1048  [0, 8, 1, 2, 3, 4, 5, 6, 7, 9, 10, 11, 12, 24,...   53\n",
       "1049       1049  [0, 6, 7, 8, 1, 2, 3, 4, 5, 10, 11, 9, 12, 54,...   45\n",
       "1050       1050  [0, 6, 7, 8, 1, 47, 48, 139, 140, 138, 2, 3, 1...   70\n",
       "1051       1051  [0, 6, 7, 8, 1, 2, 3, 4, 5, 10, 11, 9, 12, 13,...   42\n",
       "1052       1052  [0, 1, 2, 3, 4, 5, 6, 7, 8, 11, 10, 9, 12, 13,...   42\n",
       "\n",
       "[1053 rows x 3 columns]"
      ]
     },
     "execution_count": 10,
     "metadata": {},
     "output_type": "execute_result"
    }
   ],
   "source": [
    "df[\"code_case\"] = code_case\n",
    "df[\"code_activity\"] = code_activity\n",
    "grouped_df = df.groupby(df[\"code_case\"])[\"code_activity\"].agg(list).reset_index()\n",
    "grouped_df[\"len\"] = grouped_df[\"code_activity\"].apply(lambda x : len(x))\n",
    "grouped_df"
   ]
  },
  {
   "cell_type": "code",
   "execution_count": 14,
   "metadata": {},
   "outputs": [
    {
     "data": {
      "image/png": "[encoded data removed]",
      "text/plain": [
       "<Figure size 640x480 with 1 Axes>"
      ]
     },
     "metadata": {},
     "output_type": "display_data"
    }
   ],
   "source": [
    "grouped_df_graph = grouped_df.drop([\"code_case\", \"code_activity\"], axis=1)\n",
    "grouped_df_graph = grouped_df_graph.rename(columns={'len': 'Length of the trace'})\n",
    "plot = sns.histplot(grouped_df_graph, bins=10, kde=True, color=\"skyblue\")\n",
    "plt.title(\"Number of cases depending on the length of the trace\")\n",
    "plt.xlabel(\"Length\")\n",
    "plt.ylabel(\"Number of cases\")\n",
    "plt.show()"
   ]
  },
  {
   "cell_type": "code",
   "execution_count": 15,
   "metadata": {},
   "outputs": [
    {
     "name": "stdout",
     "output_type": "stream",
     "text": [
      "Средняя длинна слова: 44.91263057929724\n",
      "Самая часто встречающаяся длинна слова: 42\n"
     ]
    }
   ],
   "source": [
    "mean_length = grouped_df_graph[\"Length of the trace\"].mean()\n",
    "mode_length = grouped_df_graph[\"Length of the trace\"].mode()[0]\n",
    "print(\"Средняя длинна слова:\", mean_length)\n",
    "print(\"Самая часто встречающаяся длинна слова:\", mode_length)"
   ]
  },
  {
   "cell_type": "markdown",
   "metadata": {},
   "source": [
    "#### 1.2. Применение алгоритма"
   ]
  },
  {
   "cell_type": "code",
   "execution_count": 1,
   "metadata": {},
   "outputs": [],
   "source": [
    "import LogSplitter\n",
    "import Metrics"
   ]
  },
  {
   "cell_type": "code",
   "execution_count": 17,
   "metadata": {},
   "outputs": [],
   "source": [
    "for_activity_df = df.groupby(df[\"code_case\"])[\"concept:name\"].agg(list).reset_index()\n",
    "corpus = for_activity_df['concept:name'].to_list()"
   ]
  },
  {
   "cell_type": "code",
   "execution_count": 18,
   "metadata": {},
   "outputs": [],
   "source": [
    "model = LogSplitter.LogSplitter(2)\n",
    "model.fit(corpus)"
   ]
  },
  {
   "cell_type": "code",
   "execution_count": 19,
   "metadata": {},
   "outputs": [
    {
     "name": "stdout",
     "output_type": "stream",
     "text": [
      "10 4 289.0\n",
      "20 8 254.2\n",
      "30 13 251.0\n",
      "40 17 564.6\n",
      "50 22 426.2\n",
      "60 26 602.2\n",
      "70 30 706.6\n",
      "80 35 713.8\n",
      "90 39 477.0\n",
      "min_dif: 251.0\n",
      "max_dif: 713.8\n",
      "average_dif: 476.0666666666667\n"
     ]
    }
   ],
   "source": [
    "max_dif, min_dif, average = 0, 10000000, 0\n",
    "for i in range(10, 100, 10):\n",
    "    temp_dif = 0\n",
    "    for j in range(5):\n",
    "\n",
    "        model.transform(for_activity_df, name_id='code_case', name_traces='concept:name', trace_parts=i/100)\n",
    "        temp_dif += abs( model.class_to_is[0] - model.class_to_is[1])\n",
    "    \n",
    "    temp_dif /= 5\n",
    "\n",
    "    print(i, model.len_part, temp_dif)\n",
    "    max_dif = max(max_dif, temp_dif)\n",
    "    min_dif = min(min_dif, temp_dif)\n",
    "    average += temp_dif\n",
    "\n",
    "print(\"min_dif:\", min_dif)\n",
    "print(\"max_dif:\", max_dif)\n",
    "print(\"average_dif:\", average / 9)"
   ]
  },
  {
   "cell_type": "code",
   "execution_count": 20,
   "metadata": {},
   "outputs": [],
   "source": [
    "for i in range(2, 5):\n",
    "    model = LogSplitter.LogSplitter(i)\n",
    "    model.fit(corpus)\n",
    "\n",
    "    model.transform(for_activity_df, name_id='code_case', name_traces='concept:name', trace_parts=20/100)\n",
    "    model.save_as_csv(df, \"../Test/BPIC15_4/\" + str(i) + \"/1/\")\n",
    "\n",
    "    model.transform(for_activity_df, name_id='code_case', name_traces='concept:name', trace_parts=30/100)\n",
    "    model.save_as_csv(df, \"../Test/BPIC15_4/\" + str(i) + \"/2/\")\n"
   ]
  },
  {
   "cell_type": "code",
   "execution_count": 4,
   "metadata": {},
   "outputs": [
    {
     "name": "stderr",
     "output_type": "stream",
     "text": [
      "/tmp/ipykernel_1602731/203080886.py:13: DtypeWarning: Columns (27) have mixed types. Specify dtype option on import or set low_memory=False.\n",
      "  t_df = [pd.read_csv(\"../Data/BPIC15_4/BPIC15_4.csv\") for _ in range(1)]\n",
      "/tmp/ipykernel_1602731/203080886.py:27: DtypeWarning: Columns (28) have mixed types. Specify dtype option on import or set low_memory=False.\n",
      "  t_df = [pd.read_csv(\"../Test/BPIC15_4/\" + str(i) + \"/1/\" + str(j) + \".csv\") for j in range(i)]\n"
     ]
    }
   ],
   "source": [
    "metric = Metrics.Metric()\n",
    "result = pd.DataFrame(columns=['Metric', '1', '2', '3', '4'])\n",
    "e_cardoso_average = list()\n",
    "e_cardoso_w_average = list()\n",
    "pt_cd_average = list()\n",
    "pt_cd_w_average = list()\n",
    "\n",
    "e_cardoso_average.append(\"Average E-Cardoso\")\n",
    "e_cardoso_w_average.append(\"Weighted average E-Cardoso\")\n",
    "pt_cd_average.append(\"Average PT/CD\")\n",
    "pt_cd_w_average.append(\"Weighted average PT/CD\")\n",
    "\n",
    "t_df = [pd.read_csv(\"../Data/BPIC15_4/BPIC15_4.csv\") for _ in range(1)]\n",
    "t_df[0][\"time:timestamp\"] = pd.to_datetime(t_df[0][\"time:timestamp\"], format='ISO8601')\n",
    "t_df[0][\"case:concept:name\"] = t_df[0][\"case:concept:name\"].astype(str)\n",
    "metric.make_petri_net(t_df)\n",
    "ans, e_average, e_w_average = metric.e_cardoso(t_df)\n",
    "ans, pt_average, pt_w_average = metric.pt_cd(t_df)\n",
    "\n",
    "e_cardoso_average.append(e_average.copy())\n",
    "e_cardoso_w_average.append(e_w_average.copy())\n",
    "pt_cd_average.append(pt_average.copy())\n",
    "pt_cd_w_average.append(pt_w_average.copy())\n",
    "\n",
    "\n",
    "for i in range(2, 5):\n",
    "    t_df = [pd.read_csv(\"../Test/BPIC15_4/\" + str(i) + \"/1/\" + str(j) + \".csv\") for j in range(i)]\n",
    "    for temp in t_df:\n",
    "        temp[\"time:timestamp\"] = pd.to_datetime(temp[\"time:timestamp\"], format='ISO8601')\n",
    "        temp[\"case:concept:name\"] = temp[\"case:concept:name\"].astype(str)\n",
    "    metric.make_petri_net(t_df)\n",
    "    ans, e_average, e_w_average = metric.e_cardoso(t_df)\n",
    "    ans, pt_average, pt_w_average = metric.pt_cd(t_df)\n",
    "\n",
    "    e_cardoso_average.append(e_average.copy())\n",
    "    e_cardoso_w_average.append(e_w_average.copy())\n",
    "    pt_cd_average.append(pt_average.copy())\n",
    "    pt_cd_w_average.append(pt_w_average.copy())\n",
    "\n"
   ]
  },
  {
   "cell_type": "code",
   "execution_count": 5,
   "metadata": {},
   "outputs": [],
   "source": [
    "result.loc[len(result)] = e_cardoso_average\n",
    "result.loc[len(result)] = e_cardoso_w_average\n",
    "result.loc[len(result)] = pt_cd_average\n",
    "result.loc[len(result)] = pt_cd_w_average"
   ]
  },
  {
   "cell_type": "code",
   "execution_count": 6,
   "metadata": {},
   "outputs": [
    {
     "data": {
      "text/html": [
       "<div>\n",
       "<style scoped>\n",
       "    .dataframe tbody tr th:only-of-type {\n",
       "        vertical-align: middle;\n",
       "    }\n",
       "\n",
       "    .dataframe tbody tr th {\n",
       "        vertical-align: top;\n",
       "    }\n",
       "\n",
       "    .dataframe thead th {\n",
       "        text-align: right;\n",
       "    }\n",
       "</style>\n",
       "<table border=\"1\" class=\"dataframe\">\n",
       "  <thead>\n",
       "    <tr style=\"text-align: right;\">\n",
       "      <th></th>\n",
       "      <th>Metric</th>\n",
       "      <th>1</th>\n",
       "      <th>2</th>\n",
       "      <th>3</th>\n",
       "      <th>4</th>\n",
       "    </tr>\n",
       "  </thead>\n",
       "  <tbody>\n",
       "    <tr>\n",
       "      <th>0</th>\n",
       "      <td>Average E-Cardoso</td>\n",
       "      <td>514.000000</td>\n",
       "      <td>460.000000</td>\n",
       "      <td>232.666667</td>\n",
       "      <td>293.000000</td>\n",
       "    </tr>\n",
       "    <tr>\n",
       "      <th>1</th>\n",
       "      <td>Weighted average E-Cardoso</td>\n",
       "      <td>514.000000</td>\n",
       "      <td>460.097826</td>\n",
       "      <td>259.333948</td>\n",
       "      <td>308.648847</td>\n",
       "    </tr>\n",
       "    <tr>\n",
       "      <th>2</th>\n",
       "      <td>Average PT/CD</td>\n",
       "      <td>2.936113</td>\n",
       "      <td>2.829765</td>\n",
       "      <td>3.075108</td>\n",
       "      <td>2.791001</td>\n",
       "    </tr>\n",
       "    <tr>\n",
       "      <th>3</th>\n",
       "      <td>Weighted average PT/CD</td>\n",
       "      <td>2.936113</td>\n",
       "      <td>2.829571</td>\n",
       "      <td>3.036519</td>\n",
       "      <td>2.790698</td>\n",
       "    </tr>\n",
       "  </tbody>\n",
       "</table>\n",
       "</div>"
      ],
      "text/plain": [
       "                       Metric           1           2           3           4\n",
       "0           Average E-Cardoso  514.000000  460.000000  232.666667  293.000000\n",
       "1  Weighted average E-Cardoso  514.000000  460.097826  259.333948  308.648847\n",
       "2               Average PT/CD    2.936113    2.829765    3.075108    2.791001\n",
       "3      Weighted average PT/CD    2.936113    2.829571    3.036519    2.790698"
      ]
     },
     "execution_count": 6,
     "metadata": {},
     "output_type": "execute_result"
    }
   ],
   "source": [
    "result"
   ]
  },
  {
   "cell_type": "code",
   "execution_count": null,
   "metadata": {},
   "outputs": [],
   "source": [
    "metric = Metrics.Metric()\n",
    "result = pd.DataFrame(columns=['Metric', '1', '2', '3', '4'])\n",
    "\n",
    "\n",
    "e_cardoso_average.append(e_cardoso_average[1])\n",
    "e_cardoso_w_average.append(e_cardoso_w_average[1])\n",
    "pt_cd_average.append(pt_cd_average[1])\n",
    "pt_cd_w_average.append(pt_cd_w_average[1])\n",
    "\n",
    "\n",
    "for i in range(2, 5):\n",
    "    t_df = [pd.read_csv(\"../Test/BPIC15_4/\" + str(i) + \"/2/\" + str(j) + \".csv\") for j in range(i)]\n",
    "    for temp in t_df:\n",
    "        temp[\"time:timestamp\"] = pd.to_datetime(temp[\"time:timestamp\"], format='ISO8601')\n",
    "        temp[\"case:concept:name\"] = temp[\"case:concept:name\"].astype(str)\n",
    "    metric.make_petri_net(t_df)\n",
    "    ans, e_average, e_w_average = metric.e_cardoso(t_df)\n",
    "    ans, pt_average, pt_w_average = metric.pt_cd(t_df)\n",
    "\n",
    "    e_cardoso_average.append(e_average.copy())\n",
    "    e_cardoso_w_average.append(e_w_average.copy())\n",
    "    pt_cd_average.append(pt_average.copy())\n",
    "    pt_cd_w_average.append(pt_w_average.copy())\n"
   ]
  },
  {
   "cell_type": "code",
   "execution_count": 12,
   "metadata": {},
   "outputs": [],
   "source": [
    "result.loc[len(result)] = e_cardoso_average[5:]\n",
    "result.loc[len(result)] = e_cardoso_w_average[5:]\n",
    "result.loc[len(result)] = pt_cd_average[5:]\n",
    "result.loc[len(result)] = pt_cd_w_average[5:]"
   ]
  },
  {
   "cell_type": "code",
   "execution_count": 13,
   "metadata": {},
   "outputs": [
    {
     "data": {
      "text/html": [
       "<div>\n",
       "<style scoped>\n",
       "    .dataframe tbody tr th:only-of-type {\n",
       "        vertical-align: middle;\n",
       "    }\n",
       "\n",
       "    .dataframe tbody tr th {\n",
       "        vertical-align: top;\n",
       "    }\n",
       "\n",
       "    .dataframe thead th {\n",
       "        text-align: right;\n",
       "    }\n",
       "</style>\n",
       "<table border=\"1\" class=\"dataframe\">\n",
       "  <thead>\n",
       "    <tr style=\"text-align: right;\">\n",
       "      <th></th>\n",
       "      <th>Metric</th>\n",
       "      <th>1</th>\n",
       "      <th>2</th>\n",
       "      <th>3</th>\n",
       "      <th>4</th>\n",
       "    </tr>\n",
       "  </thead>\n",
       "  <tbody>\n",
       "    <tr>\n",
       "      <th>0</th>\n",
       "      <td>Average E-Cardoso</td>\n",
       "      <td>514.000000</td>\n",
       "      <td>384.500000</td>\n",
       "      <td>307.666667</td>\n",
       "      <td>264.000000</td>\n",
       "    </tr>\n",
       "    <tr>\n",
       "      <th>1</th>\n",
       "      <td>Weighted average E-Cardoso</td>\n",
       "      <td>514.000000</td>\n",
       "      <td>420.668301</td>\n",
       "      <td>329.378116</td>\n",
       "      <td>280.946512</td>\n",
       "    </tr>\n",
       "    <tr>\n",
       "      <th>2</th>\n",
       "      <td>Average PT/CD</td>\n",
       "      <td>2.936113</td>\n",
       "      <td>2.878321</td>\n",
       "      <td>2.921372</td>\n",
       "      <td>2.825938</td>\n",
       "    </tr>\n",
       "    <tr>\n",
       "      <th>3</th>\n",
       "      <td>Weighted average PT/CD</td>\n",
       "      <td>2.936113</td>\n",
       "      <td>2.850549</td>\n",
       "      <td>2.919438</td>\n",
       "      <td>2.843743</td>\n",
       "    </tr>\n",
       "  </tbody>\n",
       "</table>\n",
       "</div>"
      ],
      "text/plain": [
       "                       Metric           1           2           3           4\n",
       "0           Average E-Cardoso  514.000000  384.500000  307.666667  264.000000\n",
       "1  Weighted average E-Cardoso  514.000000  420.668301  329.378116  280.946512\n",
       "2               Average PT/CD    2.936113    2.878321    2.921372    2.825938\n",
       "3      Weighted average PT/CD    2.936113    2.850549    2.919438    2.843743"
      ]
     },
     "execution_count": 13,
     "metadata": {},
     "output_type": "execute_result"
    }
   ],
   "source": [
    "result"
   ]
  }
 ],
 "metadata": {
  "kernelspec": {
   "display_name": "Python 3",
   "language": "python",
   "name": "python3"
  },
  "language_info": {
   "codemirror_mode": {
    "name": "ipython",
    "version": 3
   },
   "file_extension": ".py",
   "mimetype": "text/x-python",
   "name": "python",
   "nbconvert_exporter": "python",
   "pygments_lexer": "ipython3",
   "version": "3.10.12"
  }
 },
 "nbformat": 4,
 "nbformat_minor": 2
}
